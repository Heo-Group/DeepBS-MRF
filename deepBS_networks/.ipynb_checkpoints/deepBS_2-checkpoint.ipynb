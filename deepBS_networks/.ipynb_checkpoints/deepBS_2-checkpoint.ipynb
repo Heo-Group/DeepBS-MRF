{
 "cells": [
  {
   "cell_type": "code",
   "execution_count": 1,
   "id": "ffcf8fdf-3dd5-4775-91e9-16a407d72911",
   "metadata": {},
   "outputs": [
    {
     "name": "stderr",
     "output_type": "stream",
     "text": [
      "2023-01-05 13:34:49.295698: I tensorflow/stream_executor/platform/default/dso_loader.cc:53] Successfully opened dynamic library libcudart.so.11.0\n"
     ]
    }
   ],
   "source": [
    "import tensorflow as tf\n",
    "from tensorflow.keras import layers"
   ]
  },
  {
   "cell_type": "code",
   "execution_count": 2,
   "id": "447a3a3d-936c-4a4d-870d-a12545c631b8",
   "metadata": {},
   "outputs": [],
   "source": [
    "## network for Zref signals at 1uT and 1.5 uT\n",
    "\n",
    "def two_pool_generator_model_MRF1():\n",
    "    model = tf.keras.Sequential()\n",
    "    model.add(layers.Input(shape=(5,1)))\n",
    "    model.add(layers.Bidirectional(layers.LSTM(64, return_sequences=True)))\n",
    "    model.add(layers.Dropout(0.2))\n",
    "    model.add(layers.BatchNormalization())\n",
    "    model.add(layers.Conv1D(filters=64, kernel_size=3, strides=1, padding='same'))\n",
    "    model.add(layers.LeakyReLU())\n",
    "    model.add(layers.UpSampling1D(2))\n",
    "    model.add(layers.Conv1D(filters=64, kernel_size=3, strides=1, padding='same'))\n",
    "    model.add(layers.LeakyReLU())\n",
    "    model.add(layers.Conv1D(filters=64, kernel_size=3, strides=1, padding='same'))\n",
    "    model.add(layers.Conv1D(filters=64, kernel_size=3, strides=1, padding='valid')) \n",
    "    model.add(layers.LeakyReLU())\n",
    "    model.add(layers.Conv1D(filters=64, kernel_size=3, strides=1, padding='valid'))\n",
    "    model.add(layers.LeakyReLU())\n",
    "    model.add(layers.Conv1D(filters=64, kernel_size=3, strides=1, padding='valid'))\n",
    "    model.add(layers.LeakyReLU())\n",
    "    model.add(layers.Conv1D(filters=1, kernel_size=3, strides=1, padding='valid'))\n",
    "    model.add(layers.LeakyReLU())\n",
    "    return model"
   ]
  },
  {
   "cell_type": "code",
   "execution_count": null,
   "id": "6a31d77d-270e-4994-8e7d-19457a9492e6",
   "metadata": {
    "scrolled": true,
    "tags": []
   },
   "outputs": [],
   "source": [
    "model_BS    = two_pool_generator_model_MRF1()\n",
    "model_BS.summary()"
   ]
  }
 ],
 "metadata": {
  "kernelspec": {
   "display_name": "Python 3 (ipykernel)",
   "language": "python",
   "name": "python3"
  },
  "language_info": {
   "codemirror_mode": {
    "name": "ipython",
    "version": 3
   },
   "file_extension": ".py",
   "mimetype": "text/x-python",
   "name": "python",
   "nbconvert_exporter": "python",
   "pygments_lexer": "ipython3",
   "version": "3.9.7"
  }
 },
 "nbformat": 4,
 "nbformat_minor": 5
}

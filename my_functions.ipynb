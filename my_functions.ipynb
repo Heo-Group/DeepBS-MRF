{
 "cells": [
  {
   "cell_type": "code",
   "execution_count": 1,
   "id": "2785616a-3f08-4dda-9920-68bf2212d8fd",
   "metadata": {},
   "outputs": [],
   "source": [
    "def NormalizeData(data):\n",
    "    return (data - np.min(data)) / (np.max(data) - np.min(data))     "
   ]
  },
  {
   "cell_type": "code",
   "execution_count": 2,
   "id": "a1a1c10b-df76-4eea-b9f3-6bbfd1eec099",
   "metadata": {},
   "outputs": [],
   "source": [
    "# Adding noise using target SNR\n",
    "def add_noise(x_volts, target_snr_db):\n",
    "# Set a target SNR\n",
    "    x_watts = x_volts ** 2\n",
    "    # Calculate signal power and convert to dB \n",
    "    sig_avg_watts = np.mean(x_watts)\n",
    "    sig_avg_db = 10 * np.log10(sig_avg_watts)\n",
    "    # Calculate noise according to [2] then convert to watts\n",
    "    noise_avg_db = sig_avg_db - target_snr_db\n",
    "    noise_avg_watts = 10 ** (noise_avg_db / 10)\n",
    "    # Generate an sample of white noise\n",
    "    mean_noise = 0\n",
    "    #np.random.seed(51)\n",
    "    noise_volts = np.random.normal(mean_noise, np.sqrt(noise_avg_watts), len(x_watts))\n",
    "    return noise_volts\n",
    "\n",
    "def mtc_mrf_noisy(mtc, snr):\n",
    "    for i in range(np.shape(mtc)[0]):\n",
    "            ### Add noise\n",
    "        noise_volts = add_noise(mtc[i,:], snr)  ## signal, desired SNR\n",
    "        y_volts = mtc + noise_volts\n",
    "        return y_volts\n",
    "  "
   ]
  }
 ],
 "metadata": {
  "kernelspec": {
   "display_name": "Python 3 (ipykernel)",
   "language": "python",
   "name": "python3"
  },
  "language_info": {
   "codemirror_mode": {
    "name": "ipython",
    "version": 3
   },
   "file_extension": ".py",
   "mimetype": "text/x-python",
   "name": "python",
   "nbconvert_exporter": "python",
   "pygments_lexer": "ipython3",
   "version": "3.9.7"
  }
 },
 "nbformat": 4,
 "nbformat_minor": 5
}
